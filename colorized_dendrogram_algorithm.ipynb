{
 "cells": [
  {
   "cell_type": "code",
   "execution_count": 1,
   "outputs": [],
   "source": [
    "from scipy.cluster import hierarchy\n",
    "import numpy as np"
   ],
   "metadata": {
    "collapsed": false,
    "pycharm": {
     "name": "#%%\n"
    }
   }
  },
  {
   "cell_type": "code",
   "execution_count": 2,
   "outputs": [],
   "source": [
    "# Data of MK in 4th cluster\n",
    "\n",
    "# linkage output\n",
    "Z = np.array([[ 53.       ,   92.           ,0.3244047   , 2.,        ],\n",
    " [ 58.       ,   94.           ,0.36933275  , 2.,        ],\n",
    " [ 43.       ,  101.           ,0.41465197  , 3.,        ],\n",
    " [ 14.       ,   20.           ,0.43024672  , 2.,        ],\n",
    " [ 81.       ,   95.           ,0.48312478  , 2.,        ],\n",
    " [ 50.       ,  100.           ,0.51012919  , 3.,        ],\n",
    " [ 34.       ,   54.           ,0.54018884  , 2.,        ],\n",
    " [ 52.       ,   83.           ,0.55468152  , 2.,        ],\n",
    " [  6.       ,   66.           ,0.56009961  , 2.,        ],\n",
    " [ 90.       ,  106.           ,0.57285412  , 3.,        ],\n",
    " [ 63.       ,  103.           ,0.57328732  , 3.,        ],\n",
    " [ 47.       ,  104.           ,0.5886047   , 3.,        ],\n",
    " [ 22.       ,  110.           ,0.61690105  , 4.,        ],\n",
    " [  2.       ,  112.           ,0.61695068  , 5.,        ],\n",
    " [ 31.       ,   87.           ,0.62802911  , 2.,        ],\n",
    " [ 76.       ,   86.           ,0.63149011  , 2.,        ],\n",
    " [ 29.       ,   30.           ,0.64224128  , 2.,        ],\n",
    " [ 21.       ,  111.           ,0.64427313  , 4.,        ],\n",
    " [ 28.       ,  109.           ,0.66319449  , 4.,        ],\n",
    " [ 11.       ,  102.           ,0.66390454  , 4.,        ],\n",
    " [  0.       ,   67.           ,0.68864711  , 2.,        ],\n",
    " [116.       ,  118.           ,0.69051941  , 6.,        ],\n",
    " [ 75.       ,   91.           ,0.69938222  , 2.,        ],\n",
    " [ 16.       ,   98.           ,0.69978163  , 2.,        ],\n",
    " [ 48.       ,  113.           ,0.70027449  , 6.,        ],\n",
    " [  9.       ,   56.           ,0.70721321  , 2.,        ],\n",
    " [ 57.       ,  124.           ,0.73051827  , 7.,        ],\n",
    " [114.       ,  115.           ,0.75311658  , 4.,        ],\n",
    " [105.       ,  107.           ,0.75384489  , 5.,        ],\n",
    " [ 70.       ,  125.           ,0.76193449  , 3.,        ],\n",
    " [ 45.       ,  122.           ,0.77323512  , 3.,        ],\n",
    " [ 40.       ,  130.           ,0.82725342  , 4.,        ],\n",
    " [ 27.       ,  123.           ,0.82883081  , 3.,        ],\n",
    " [  8.       ,  117.           ,0.83422364  , 5.,        ],\n",
    " [ 62.       ,  129.           ,0.83516901  , 4.,        ],\n",
    " [ 33.       ,   68.           ,0.83783638  , 2.,        ],\n",
    " [ 15.       ,  128.           ,0.83795017  , 6.,        ],\n",
    " [120.       ,  134.           ,0.84974761  , 6.,        ],\n",
    " [ 37.       ,  132.           ,0.8535909   , 4.,        ],\n",
    " [ 61.       ,   93.           ,0.86154536  , 2.,        ],\n",
    " [137.       ,  139.           ,0.86553113  , 8.,        ],\n",
    " [ 35.       ,   59.           ,0.87038257  , 2.,        ],\n",
    " [108.       ,  126.           ,0.88410231  , 9.,        ],\n",
    " [ 26.       ,  138.           ,0.89502224  , 5.,        ],\n",
    " [ 13.       ,  133.           ,0.92180925  , 6.,        ],\n",
    " [ 44.       ,  135.           ,0.93245347  , 3.,        ],\n",
    " [ 99.       ,  143.           ,0.93331055  , 6.,        ],\n",
    " [ 32.       ,   73.           ,0.94577196  , 2.,        ],\n",
    " [ 17.       ,  147.           ,0.9490211   , 3.,        ],\n",
    " [131.       ,  141.           ,0.95624028  , 6.,        ],\n",
    " [ 71.       ,  145.           ,0.95935812  , 4.,        ],\n",
    " [ 89.       ,  148.           ,0.96501295  , 4.,        ],\n",
    " [142.       ,  149.           ,0.97320124  ,15.,        ],\n",
    " [140.       ,  146.           ,0.97334175  ,14.,        ],\n",
    " [ 79.       ,  144.           ,0.97610626  , 7.,        ],\n",
    " [ 96.       ,  153.           ,0.98062798  ,15.,        ],\n",
    " [  4.       ,  152.           ,1.00029442  ,16.,        ],\n",
    " [ 46.       ,   97.           ,1.00181399  , 2.,        ],\n",
    " [ 36.       ,  127.           ,1.00577281  , 5.,        ],\n",
    " [ 69.       ,  155.           ,1.00702464  ,16.,        ],\n",
    " [ 74.       ,  119.           ,1.0152351   , 5.,        ],\n",
    " [ 72.       ,  159.           ,1.02334265  ,17.,        ],\n",
    " [ 38.       ,  156.           ,1.03307888  ,17.,        ],\n",
    " [ 80.       ,  154.           ,1.03859274  , 8.,        ],\n",
    " [136.       ,  160.           ,1.04166251  ,11.,        ],\n",
    " [ 12.       ,  150.           ,1.04570803  , 5.,        ],\n",
    " [ 18.       ,  157.           ,1.04587464  , 3.,        ],\n",
    " [ 85.       ,  164.           ,1.04691209  ,12.,        ],\n",
    " [ 77.       ,  121.           ,1.05865936  , 7.,        ],\n",
    " [151.       ,  161.           ,1.06048667  ,21.,        ],\n",
    " [162.       ,  166.           ,1.06218106  ,20.,        ],\n",
    " [  1.       ,  163.           ,1.06460399  , 9.,        ],\n",
    " [ 51.       ,  167.           ,1.06949229  ,13.,        ],\n",
    " [ 82.       ,  170.           ,1.07654714  ,21.,        ],\n",
    " [  7.       ,  169.           ,1.08895844  ,22.,        ],\n",
    " [ 88.       ,  174.           ,1.08952963  ,23.,        ],\n",
    " [  5.       ,   55.           ,1.09600258  , 2.,        ],\n",
    " [ 39.       ,  173.           ,1.10389037  ,22.,        ],\n",
    " [158.       ,  177.           ,1.11053283  ,27.,        ],\n",
    " [ 64.       ,  165.           ,1.13640394  , 6.,        ],\n",
    " [ 42.       ,  179.           ,1.14181127  , 7.,        ],\n",
    " [175.       ,  180.           ,1.15927689  ,30.,        ],\n",
    " [ 84.       ,  172.           ,1.1793335   ,14.,        ],\n",
    " [ 78.       ,  181.           ,1.18766095  ,31.,        ],\n",
    " [ 10.       ,   49.           ,1.19986982  , 2.,        ],\n",
    " [182.       ,  184.           ,1.2054696   ,16.,        ],\n",
    " [  3.       ,  178.           ,1.22976747  ,28.,        ],\n",
    " [ 60.       ,  168.           ,1.25708773  , 8.,        ],\n",
    " [176.       ,  186.           ,1.33940158  ,30.,        ],\n",
    " [ 25.       ,  188.           ,1.35852321  ,31.,        ],\n",
    " [ 41.       ,  189.           ,1.37507658  ,32.,        ],\n",
    " [ 65.       ,  183.           ,1.39369226  ,32.,        ],\n",
    " [ 23.       ,  171.           ,1.41475277  ,10.,        ],\n",
    " [185.       ,  192.           ,1.54338891  ,26.,        ],\n",
    " [ 24.       ,  190.           ,1.68030165  ,33.,        ],\n",
    " [ 19.       ,  191.           ,1.7021803   ,33.,        ],\n",
    " [187.       ,  193.           ,1.85437369  ,34.,        ],\n",
    " [194.       ,  196.           ,4.07030024  ,67.,        ],\n",
    " [195.       ,  197.           ,4.45955177 ,100.,        ],])\n",
    "i = 4\n",
    "\n",
    "\n",
    "Z = np.array([[1.00000000e+00 ,5.40000000e+01 ,1.72325155e-01 ,2.00000000e+00],\n",
    " [0.00000000e+00 ,6.70000000e+01 ,1.88751871e-01 ,2.00000000e+00],\n",
    " [4.90000000e+01 ,8.30000000e+01 ,1.92018066e-01 ,2.00000000e+00],\n",
    " [7.00000000e+00 ,1.70000000e+01 ,2.06148176e-01 ,2.00000000e+00],\n",
    " [5.30000000e+01 ,6.00000000e+01 ,2.09272405e-01 ,2.00000000e+00],\n",
    " [1.90000000e+01 ,9.90000000e+01 ,2.14448549e-01 ,2.00000000e+00],\n",
    " [1.80000000e+01 ,1.04000000e+02 ,2.37563745e-01 ,3.00000000e+00],\n",
    " [1.60000000e+01 ,7.20000000e+01 ,2.60095631e-01 ,2.00000000e+00],\n",
    " [4.20000000e+01 ,7.00000000e+01 ,2.62545621e-01 ,2.00000000e+00],\n",
    " [1.10000000e+01 ,1.02000000e+02 ,2.73046367e-01 ,3.00000000e+00],\n",
    " [9.00000000e+00 ,9.60000000e+01 ,2.73125408e-01 ,2.00000000e+00],\n",
    " [6.80000000e+01 ,1.08000000e+02 ,2.76502538e-01 ,3.00000000e+00],\n",
    " [3.70000000e+01 ,1.05000000e+02 ,2.80280005e-01 ,3.00000000e+00],\n",
    " [2.70000000e+01 ,1.07000000e+02 ,2.90119533e-01 ,3.00000000e+00],\n",
    " [8.00000000e+00 ,7.90000000e+01 ,2.92034599e-01 ,2.00000000e+00],\n",
    " [1.06000000e+02 ,1.14000000e+02 ,2.97270084e-01 ,5.00000000e+00],\n",
    " [2.10000000e+01 ,5.20000000e+01 ,3.00861360e-01 ,2.00000000e+00],\n",
    " [1.20000000e+01 ,1.12000000e+02 ,3.02031994e-01 ,4.00000000e+00],\n",
    " [9.30000000e+01 ,1.13000000e+02 ,3.04577045e-01 ,4.00000000e+00],\n",
    " [4.70000000e+01 ,1.15000000e+02 ,3.05746689e-01 ,6.00000000e+00],\n",
    " [8.00000000e+01 ,1.00000000e+02 ,3.11876084e-01 ,3.00000000e+00],\n",
    " [1.30000000e+01 ,1.19000000e+02 ,3.18235176e-01 ,7.00000000e+00],\n",
    " [1.20000000e+02 ,1.21000000e+02 ,3.22359800e-01 ,1.00000000e+01],\n",
    " [9.50000000e+01 ,1.16000000e+02 ,3.23158699e-01 ,3.00000000e+00],\n",
    " [1.03000000e+02 ,1.17000000e+02 ,3.31881924e-01 ,6.00000000e+00],\n",
    " [2.00000000e+00 ,2.50000000e+01 ,3.33981264e-01 ,2.00000000e+00],\n",
    " [1.18000000e+02 ,1.24000000e+02 ,3.35383835e-01 ,1.00000000e+01],\n",
    " [1.11000000e+02 ,1.26000000e+02 ,3.36007984e-01 ,1.30000000e+01],\n",
    " [1.22000000e+02 ,1.23000000e+02 ,3.37206360e-01 ,1.30000000e+01],\n",
    " [3.00000000e+01 ,1.28000000e+02 ,3.44753066e-01 ,1.40000000e+01],\n",
    " [9.80000000e+01 ,1.01000000e+02 ,3.54484477e-01 ,3.00000000e+00],\n",
    " [3.30000000e+01 ,1.27000000e+02 ,3.55000549e-01 ,1.40000000e+01],\n",
    " [5.80000000e+01 ,1.09000000e+02 ,3.56655283e-01 ,4.00000000e+00],\n",
    " [3.20000000e+01 ,8.90000000e+01 ,3.57240710e-01 ,2.00000000e+00],\n",
    " [2.60000000e+01 ,1.31000000e+02 ,3.57801152e-01 ,1.50000000e+01],\n",
    " [4.50000000e+01 ,1.30000000e+02 ,3.65642019e-01 ,4.00000000e+00],\n",
    " [6.50000000e+01 ,7.30000000e+01 ,3.74040505e-01 ,2.00000000e+00],\n",
    " [1.33000000e+02 ,1.36000000e+02 ,3.78458094e-01 ,4.00000000e+00],\n",
    " [1.00000000e+01 ,8.40000000e+01 ,3.86147093e-01 ,2.00000000e+00],\n",
    " [4.60000000e+01 ,9.40000000e+01 ,3.88175840e-01 ,2.00000000e+00],\n",
    " [6.00000000e+00 ,5.70000000e+01 ,3.90954368e-01 ,2.00000000e+00],\n",
    " [5.00000000e+01 ,1.29000000e+02 ,3.92419884e-01 ,1.50000000e+01],\n",
    " [2.80000000e+01 ,1.41000000e+02 ,3.96162851e-01 ,1.60000000e+01],\n",
    " [5.60000000e+01 ,1.34000000e+02 ,4.02685434e-01 ,1.60000000e+01],\n",
    " [7.40000000e+01 ,1.42000000e+02 ,4.03059995e-01 ,1.70000000e+01],\n",
    " [4.40000000e+01 ,1.43000000e+02 ,4.09449582e-01 ,1.70000000e+01],\n",
    " [9.00000000e+01 ,1.39000000e+02 ,4.09540452e-01 ,3.00000000e+00],\n",
    " [1.32000000e+02 ,1.44000000e+02 ,4.12915774e-01 ,2.10000000e+01],\n",
    " [2.30000000e+01 ,1.47000000e+02 ,4.14986318e-01 ,2.20000000e+01],\n",
    " [1.46000000e+02 ,1.48000000e+02 ,4.18607181e-01 ,2.50000000e+01],\n",
    " [1.10000000e+02 ,1.45000000e+02 ,4.21952298e-01 ,1.90000000e+01],\n",
    " [1.35000000e+02 ,1.50000000e+02 ,4.35453287e-01 ,2.30000000e+01],\n",
    " [7.70000000e+01 ,1.49000000e+02 ,4.38568316e-01 ,2.60000000e+01],\n",
    " [2.90000000e+01 ,1.38000000e+02 ,4.42993434e-01 ,3.00000000e+00],\n",
    " [1.37000000e+02 ,1.51000000e+02 ,4.47001751e-01 ,2.70000000e+01],\n",
    " [2.20000000e+01 ,9.70000000e+01 ,4.58676012e-01 ,2.00000000e+00],\n",
    " [1.50000000e+01 ,1.52000000e+02 ,4.64048081e-01 ,2.70000000e+01],\n",
    " [5.10000000e+01 ,1.56000000e+02 ,4.66234675e-01 ,2.80000000e+01],\n",
    " [8.50000000e+01 ,1.53000000e+02 ,4.76963505e-01 ,4.00000000e+00],\n",
    " [8.10000000e+01 ,1.57000000e+02 ,4.80582148e-01 ,2.90000000e+01],\n",
    " [6.20000000e+01 ,1.54000000e+02 ,4.93900051e-01 ,2.80000000e+01],\n",
    " [2.40000000e+01 ,4.10000000e+01 ,4.97089447e-01 ,2.00000000e+00],\n",
    " [6.90000000e+01 ,1.60000000e+02 ,4.99009193e-01 ,2.90000000e+01],\n",
    " [3.10000000e+01 ,8.20000000e+01 ,5.00490100e-01 ,2.00000000e+00],\n",
    " [3.40000000e+01 ,1.59000000e+02 ,5.15281976e-01 ,3.00000000e+01],\n",
    " [1.58000000e+02 ,1.64000000e+02 ,5.16577009e-01 ,3.40000000e+01],\n",
    " [6.60000000e+01 ,7.80000000e+01 ,5.33586574e-01 ,2.00000000e+00],\n",
    " [9.10000000e+01 ,1.63000000e+02 ,5.39678852e-01 ,3.00000000e+00],\n",
    " [8.80000000e+01 ,1.62000000e+02 ,5.75392925e-01 ,3.00000000e+01],\n",
    " [2.00000000e+01 ,1.55000000e+02 ,5.98109308e-01 ,3.00000000e+00],\n",
    " [1.40000000e+01 ,3.80000000e+01 ,5.99836700e-01 ,2.00000000e+00],\n",
    " [1.66000000e+02 ,1.69000000e+02 ,6.00900207e-01 ,5.00000000e+00],\n",
    " [6.40000000e+01 ,1.68000000e+02 ,6.07825201e-01 ,3.10000000e+01],\n",
    " [4.30000000e+01 ,1.65000000e+02 ,6.14233180e-01 ,3.50000000e+01],\n",
    " [4.00000000e+01 ,1.71000000e+02 ,6.14392630e-01 ,6.00000000e+00],\n",
    " [7.10000000e+01 ,1.25000000e+02 ,6.19213120e-01 ,3.00000000e+00],\n",
    " [1.61000000e+02 ,1.74000000e+02 ,6.19423748e-01 ,8.00000000e+00],\n",
    " [7.50000000e+01 ,1.76000000e+02 ,6.22975930e-01 ,9.00000000e+00],\n",
    " [1.40000000e+02 ,1.77000000e+02 ,6.23175411e-01 ,1.10000000e+01],\n",
    " [3.60000000e+01 ,1.67000000e+02 ,6.45197436e-01 ,4.00000000e+00],\n",
    " [5.50000000e+01 ,1.79000000e+02 ,6.53964500e-01 ,5.00000000e+00],\n",
    " [5.90000000e+01 ,1.80000000e+02 ,6.58159244e-01 ,6.00000000e+00],\n",
    " [1.75000000e+02 ,1.78000000e+02 ,6.61317836e-01 ,1.40000000e+01],\n",
    " [7.60000000e+01 ,1.81000000e+02 ,6.86325069e-01 ,7.00000000e+00],\n",
    " [8.60000000e+01 ,1.83000000e+02 ,6.92808280e-01 ,8.00000000e+00],\n",
    " [1.70000000e+02 ,1.84000000e+02 ,7.13142937e-01 ,1.00000000e+01],\n",
    " [5.00000000e+00 ,1.85000000e+02 ,7.18487995e-01 ,1.10000000e+01],\n",
    " [1.82000000e+02 ,1.86000000e+02 ,7.21806381e-01 ,2.50000000e+01],\n",
    " [4.80000000e+01 ,1.87000000e+02 ,7.42395867e-01 ,2.60000000e+01],\n",
    " [6.10000000e+01 ,1.88000000e+02 ,7.52017032e-01 ,2.70000000e+01],\n",
    " [3.50000000e+01 ,1.89000000e+02 ,7.80851369e-01 ,2.80000000e+01],\n",
    " [1.72000000e+02 ,1.90000000e+02 ,8.05781996e-01 ,5.90000000e+01],\n",
    " [8.70000000e+01 ,1.91000000e+02 ,9.50242015e-01 ,6.00000000e+01],\n",
    " [4.00000000e+00 ,1.92000000e+02 ,1.07880946e+00 ,6.10000000e+01],\n",
    " [6.30000000e+01 ,1.93000000e+02 ,1.07952070e+00 ,6.20000000e+01],\n",
    " [3.90000000e+01 ,1.73000000e+02 ,1.19455745e+00 ,3.60000000e+01],\n",
    " [3.00000000e+00 ,1.94000000e+02 ,1.33646643e+00 ,6.30000000e+01],\n",
    " [9.20000000e+01 ,1.96000000e+02 ,1.52156067e+00 ,6.40000000e+01],\n",
    " [1.95000000e+02 ,1.97000000e+02 ,4.68448618e+00 ,1.00000000e+02]])\n",
    "i = 0"
   ],
   "metadata": {
    "collapsed": false,
    "pycharm": {
     "name": "#%%\n"
    }
   }
  },
  {
   "cell_type": "code",
   "execution_count": 3,
   "outputs": [],
   "source": [
    "# (n_data) -> cluster of the original sample\n",
    "orig_data_clusters = hierarchy.fcluster(Z, i + 2, criterion='maxclust')"
   ],
   "metadata": {
    "collapsed": false,
    "pycharm": {
     "name": "#%%\n"
    }
   }
  },
  {
   "cell_type": "code",
   "execution_count": 4,
   "outputs": [
    {
     "name": "stdout",
     "output_type": "stream",
     "text": [
      "[1 2] [36 64]\n"
     ]
    }
   ],
   "source": [
    "uniq, counts = np.unique(orig_data_clusters, return_counts=True)\n",
    "\n",
    "print(uniq, counts)"
   ],
   "metadata": {
    "collapsed": false,
    "pycharm": {
     "name": "#%%\n"
    }
   }
  },
  {
   "cell_type": "code",
   "execution_count": 5,
   "outputs": [
    {
     "data": {
      "text/plain": "[1.0,\n 0.0,\n 49.0,\n 7.0,\n 53.0,\n 19.0,\n 18.0,\n 16.0,\n 42.0,\n 11.0,\n 9.0,\n 68.0,\n 37.0,\n 27.0,\n 8.0,\n None,\n 21.0,\n 12.0,\n 93.0,\n 47.0,\n 80.0,\n 13.0,\n None,\n 95.0,\n None,\n 2.0,\n None,\n None,\n None,\n 30.0,\n 98.0,\n 33.0,\n 58.0,\n 32.0,\n 26.0,\n 45.0,\n 65.0,\n None,\n 10.0,\n 46.0,\n 6.0,\n 50.0,\n 28.0,\n 56.0,\n 74.0,\n 44.0,\n 90.0,\n None,\n 23.0,\n None,\n None,\n None,\n 77.0,\n 29.0,\n None,\n 22.0,\n 15.0,\n 51.0,\n 85.0,\n 81.0,\n 62.0,\n 24.0,\n 69.0,\n 31.0,\n 34.0,\n None,\n 66.0,\n 91.0,\n 88.0,\n 20.0,\n 14.0,\n None,\n 64.0,\n 43.0,\n 40.0,\n 71.0,\n None,\n 75.0,\n None,\n 36.0,\n 55.0,\n 59.0,\n None,\n 76.0,\n 86.0,\n None,\n 5.0,\n None,\n 48.0,\n 61.0,\n 35.0,\n None,\n 87.0,\n 4.0,\n 63.0,\n 39.0,\n 3.0,\n 92.0,\n None]"
     },
     "execution_count": 5,
     "metadata": {},
     "output_type": "execute_result"
    }
   ],
   "source": [
    "cluster_indicator_links = [Z[i,0] if n <= Z.shape[0] else None for i, n in enumerate(Z[:,0])]\n",
    "cluster_indicator_links"
   ],
   "metadata": {
    "collapsed": false,
    "pycharm": {
     "name": "#%%\n"
    }
   }
  },
  {
   "cell_type": "code",
   "execution_count": 6,
   "outputs": [],
   "source": [
    "# fisrt element is Z.shape[0] + 1\n",
    "def lcf(k):\n",
    "    # k-Z.shape[0]-1 is 0\n",
    "    i = k-Z.shape[0]-1\n",
    "\n",
    "    indicator = cluster_indicator_links\n",
    "\n",
    "    if indicator[i] is not None :\n",
    "        return 'C'+orig_data_clusters[indicator[i].astype(int)].astype(str)\n",
    "\n",
    "    return 'k'\n"
   ],
   "metadata": {
    "collapsed": false,
    "pycharm": {
     "name": "#%%\n"
    }
   }
  },
  {
   "cell_type": "code",
   "execution_count": 7,
   "outputs": [
    {
     "data": {
      "text/plain": "<Figure size 432x288 with 1 Axes>",
      "image/png": "[encoded data removed]"
     },
     "metadata": {
      "needs_background": "light"
     },
     "output_type": "display_data"
    }
   ],
   "source": [
    "R = hierarchy.dendrogram(Z,\n",
    "               distance_sort='descending',\n",
    "               show_leaf_counts=True,\n",
    "               link_color_func=lcf,\n",
    "               )"
   ],
   "metadata": {
    "collapsed": false,
    "pycharm": {
     "name": "#%%\n"
    }
   }
  }
 ],
 "metadata": {
  "kernelspec": {
   "display_name": "Python 3",
   "language": "python",
   "name": "python3"
  },
  "language_info": {
   "codemirror_mode": {
    "name": "ipython",
    "version": 2
   },
   "file_extension": ".py",
   "mimetype": "text/x-python",
   "name": "python",
   "nbconvert_exporter": "python",
   "pygments_lexer": "ipython2",
   "version": "2.7.6"
  }
 },
 "nbformat": 4,
 "nbformat_minor": 0
}